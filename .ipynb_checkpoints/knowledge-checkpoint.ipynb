{
 "cells": [
  {
   "cell_type": "markdown",
   "id": "c1ef1dcc-6330-4ce0-b496-ca2baed5a6d4",
   "metadata": {
    "tags": []
   },
   "source": [
    "# Quick Demo to showcase how to use prior knowledge in rCausalMGM"
   ]
  },
  {
   "cell_type": "code",
   "execution_count": 1,
   "id": "0b170237-4858-4bf0-8fc8-22331cb94d07",
   "metadata": {
    "tags": []
   },
   "outputs": [
    {
     "name": "stdout",
     "output_type": "stream",
     "text": [
      "          X1          X2         X3         X4         X5 Y1 Y2 Y3 Y4 Y5\n",
      "1 -0.1032843  1.51656848  1.6732801 -0.4708008  0.9999730  A  B  A  B  A\n",
      "2  0.3748836 -0.38811637 -0.6579513 -0.7048476  1.3844457  A  B  A  B  A\n",
      "3 -1.3737184  0.03107079  0.7662326  0.5035131 -0.5010449  A  A  B  B  A\n",
      "4  2.3889562 -1.36889096 -1.1946817  2.0358353  0.9168064  A  A  B  C  B\n",
      "5 -1.3785314 -0.13704609 -2.4455097  1.8642418  0.4437788  C  A  C  B  A\n",
      "6  1.3540231 -0.65017245  0.2355710 -0.5957924  0.6637254  A  A  C  C  C\n"
     ]
    }
   ],
   "source": [
    "library(rCausalMGM)\n",
    "\n",
    "data(train_n10000_p10)\n",
    "data(dag_n10000_p10)\n",
    "\n",
    "print(head(train_n10000_p10))"
   ]
  },
  {
   "cell_type": "markdown",
   "id": "6741b5db-2540-46fa-98d0-080f149e9ca3",
   "metadata": {
    "tags": []
   },
   "source": [
    "## Lets shrink the data so the algos can run quickly"
   ]
  },
  {
   "cell_type": "code",
   "execution_count": 2,
   "id": "2895a054-e469-4348-b641-65206e261736",
   "metadata": {
    "tags": []
   },
   "outputs": [
    {
     "name": "stdout",
     "output_type": "stream",
     "text": [
      "            X1          X2         X3         X4         X5 Y1 Y2 Y3 Y4 Y5\n",
      "1  -0.10328431  1.51656848  1.6732801 -0.4708008  0.9999730  A  B  A  B  A\n",
      "2   0.37488364 -0.38811637 -0.6579513 -0.7048476  1.3844457  A  B  A  B  A\n",
      "3  -1.37371842  0.03107079  0.7662326  0.5035131 -0.5010449  A  A  B  B  A\n",
      "4   2.38895617 -1.36889096 -1.1946817  2.0358353  0.9168064  A  A  B  C  B\n",
      "5  -1.37853143 -0.13704609 -2.4455097  1.8642418  0.4437788  C  A  C  B  A\n",
      "6   1.35402307 -0.65017245  0.2355710 -0.5957924  0.6637254  A  A  C  C  C\n",
      "7  -2.15890719 -3.59002886 -1.2250584  2.5134897 -2.0204028  A  C  A  C  A\n",
      "8   2.01495897 -5.21212079  0.6088620  0.4483583 -2.6596373  B  C  A  C  C\n",
      "9  -0.42249171 -1.70941725  1.5490180 -0.4158757 -0.6989711  A  A  C  A  A\n",
      "10 -0.09060777  1.88340600  1.5285464 -1.5011507  0.7501029  C  B  B  A  A\n"
     ]
    }
   ],
   "source": [
    "dat <- train_n10000_p10[1:10, ]\n",
    "\n",
    "print(dat)"
   ]
  },
  {
   "cell_type": "code",
   "execution_count": 3,
   "id": "96fd29e0-8950-4333-8b8c-b16a48717d96",
   "metadata": {
    "tags": []
   },
   "outputs": [
    {
     "name": "stdout",
     "output_type": "stream",
     "text": [
      "Starting PC-Stable algorithm...\n",
      "  Starting FAS Stable...\n",
      "    Searching at depth 0...\n",
      "    Searching at depth 1...\n",
      "  FAS Stable Elapsed Time =  0.008 s\n",
      "    Filling Triple Map...\n",
      "  Orienting colliders...\n",
      "  Orienting implied edges...\n",
      "  PC-Stable Elapsed Time =  0.01 s\n"
     ]
    },
    {
     "name": "stderr",
     "output_type": "stream",
     "text": [
      "Here is the edge list...\n",
      "\n"
     ]
    },
    {
     "data": {
      "text/html": [
       "<style>\n",
       ".list-inline {list-style: none; margin:0; padding: 0}\n",
       ".list-inline>li {display: inline-block}\n",
       ".list-inline>li:not(:last-child)::after {content: \"\\00b7\"; padding: 0 .5ex}\n",
       "</style>\n",
       "<ol class=list-inline><li>'X1 --- Y5'</li><li>'X3 --- X4'</li></ol>\n"
      ],
      "text/latex": [
       "\\begin{enumerate*}\n",
       "\\item 'X1 --- Y5'\n",
       "\\item 'X3 --- X4'\n",
       "\\end{enumerate*}\n"
      ],
      "text/markdown": [
       "1. 'X1 --- Y5'\n",
       "2. 'X3 --- X4'\n",
       "\n",
       "\n"
      ],
      "text/plain": [
       "[1] \"X1 --- Y5\" \"X3 --- X4\""
      ]
     },
     "metadata": {},
     "output_type": "display_data"
    }
   ],
   "source": [
    "g <- rCausalMGM::pcStable(data = dat, verbose = T)\n",
    "\n",
    "message(\"Here is the edge list...\")\n",
    "\n",
    "g$edges"
   ]
  },
  {
   "cell_type": "markdown",
   "id": "d5adba5b-a005-4af7-904a-bbc59dff95ed",
   "metadata": {},
   "source": [
    "## The first thing we should examine is the knowledge 'tier' system\n",
    "- It should be the case that all of the nodes on the same tier should not affect the learned edge list"
   ]
  },
  {
   "cell_type": "code",
   "execution_count": 236,
   "id": "cec0b9af-e89f-4b37-8921-46f289ee6674",
   "metadata": {
    "tags": []
   },
   "outputs": [
    {
     "name": "stdout",
     "output_type": "stream",
     "text": [
      "Starting PC-Stable algorithm...\n",
      "  Starting FAS Stable...\n",
      "    Searching at depth 0...\n",
      "    Searching at depth 1...\n",
      "  FAS Stable Elapsed Time =  0.0091 s\n",
      "    Filling Triple Map...\n",
      "  Orienting colliders...\n",
      "  Orienting implied edges...\n",
      "  PC-Stable Elapsed Time =  0.012 s\n"
     ]
    },
    {
     "name": "stderr",
     "output_type": "stream",
     "text": [
      "Here is the edge list...\n",
      "\n"
     ]
    },
    {
     "data": {
      "text/html": [
       "<style>\n",
       ".list-inline {list-style: none; margin:0; padding: 0}\n",
       ".list-inline>li {display: inline-block}\n",
       ".list-inline>li:not(:last-child)::after {content: \"\\00b7\"; padding: 0 .5ex}\n",
       "</style>\n",
       "<ol class=list-inline><li>'X1 --- Y5'</li><li>'X3 --- X4'</li></ol>\n"
      ],
      "text/latex": [
       "\\begin{enumerate*}\n",
       "\\item 'X1 --- Y5'\n",
       "\\item 'X3 --- X4'\n",
       "\\end{enumerate*}\n"
      ],
      "text/markdown": [
       "1. 'X1 --- Y5'\n",
       "2. 'X3 --- X4'\n",
       "\n",
       "\n"
      ],
      "text/plain": [
       "[1] \"X1 --- Y5\" \"X3 --- X4\""
      ]
     },
     "metadata": {},
     "output_type": "display_data"
    }
   ],
   "source": [
    "g <- rCausalMGM::pcStable(\n",
    "    data = dat,\n",
    "    verbose = T,\n",
    "    \n",
    "    # Try knowledge\n",
    "    knowledge  = list(\n",
    "        \n",
    "        \"tiers\" = list(\n",
    "            c('X5', 'X4', 'X2', 'X1', 'Y1', 'Y2', 'Y3', 'Y4', 'Y5', 'X3')\n",
    "        )\n",
    "        \n",
    "    )\n",
    ")\n",
    "\n",
    "message(\"Here is the edge list...\")\n",
    "\n",
    "g$edges "
   ]
  },
  {
   "cell_type": "markdown",
   "id": "9a98d9b8-6297-4f7d-b318-875f5b5ceb88",
   "metadata": {},
   "source": [
    "Nice!"
   ]
  },
  {
   "cell_type": "markdown",
   "id": "4e8eb1d7-cabb-4d82-b184-2eb5981ad142",
   "metadata": {},
   "source": [
    "## Let's look at how to do the tiered constraints!"
   ]
  },
  {
   "cell_type": "code",
   "execution_count": 222,
   "id": "7ae48e91-3811-45f1-a81f-f4aa1aea3af0",
   "metadata": {
    "tags": []
   },
   "outputs": [
    {
     "name": "stdout",
     "output_type": "stream",
     "text": [
      "Starting PC-Stable algorithm...\n",
      "  Starting FAS Stable...\n",
      "    Searching at depth 0...\n",
      "    Searching at depth 1...\n",
      "  FAS Stable Elapsed Time =  0.0091 s\n",
      "    Filling Triple Map...\n",
      "  Orienting colliders...\n",
      "  Orienting implied edges...\n",
      "  PC-Stable Elapsed Time =  0.012 s\n"
     ]
    },
    {
     "name": "stderr",
     "output_type": "stream",
     "text": [
      "Here is the edge list...\n",
      "\n"
     ]
    },
    {
     "data": {
      "text/html": [
       "<style>\n",
       ".list-inline {list-style: none; margin:0; padding: 0}\n",
       ".list-inline>li {display: inline-block}\n",
       ".list-inline>li:not(:last-child)::after {content: \"\\00b7\"; padding: 0 .5ex}\n",
       "</style>\n",
       "<ol class=list-inline><li>'X1 --&gt; Y5'</li><li>'X2 --- X5'</li><li>'X3 --- X4'</li></ol>\n"
      ],
      "text/latex": [
       "\\begin{enumerate*}\n",
       "\\item 'X1 --> Y5'\n",
       "\\item 'X2 --- X5'\n",
       "\\item 'X3 --- X4'\n",
       "\\end{enumerate*}\n"
      ],
      "text/markdown": [
       "1. 'X1 --&gt; Y5'\n",
       "2. 'X2 --- X5'\n",
       "3. 'X3 --- X4'\n",
       "\n",
       "\n"
      ],
      "text/plain": [
       "[1] \"X1 --> Y5\" \"X2 --- X5\" \"X3 --- X4\""
      ]
     },
     "metadata": {},
     "output_type": "display_data"
    }
   ],
   "source": [
    "g <- rCausalMGM::pcStable(\n",
    "    data = dat,\n",
    "    verbose = T,\n",
    "    \n",
    "    # Try knowledge\n",
    "    knowledge  = list(\n",
    "        \n",
    "        \"tiers\" = list(\n",
    "            c('X5', 'X4', 'X3', 'X2', 'X1'),\n",
    "            c('Y1', 'Y2', 'Y3', 'Y4', 'Y5')\n",
    "        )\n",
    "        \n",
    "    )\n",
    ")\n",
    "\n",
    "message(\"Here is the edge list...\")\n",
    "\n",
    "g$edges "
   ]
  },
  {
   "cell_type": "markdown",
   "id": "95bb2d8f-5fa1-457f-bfe5-e2ff826b94e8",
   "metadata": {},
   "source": [
    "## We can include a flag per tier to control whether the nodes can connect within!"
   ]
  },
  {
   "cell_type": "code",
   "execution_count": 4,
   "id": "59a90ad4-4dd3-4bb6-95b0-6fbb665d8d6c",
   "metadata": {
    "tags": []
   },
   "outputs": [
    {
     "name": "stdout",
     "output_type": "stream",
     "text": [
      "Starting PC-Stable algorithm...\n",
      "  Starting FAS Stable...\n",
      "    Searching at depth 0...\n",
      "    Searching at depth 1...\n",
      "  FAS Stable Elapsed Time =  0.0097 s\n",
      "    Filling Triple Map...\n",
      "  Orienting colliders...\n",
      "  Orienting implied edges...\n",
      "  PC-Stable Elapsed Time =  0.013 s\n"
     ]
    },
    {
     "name": "stderr",
     "output_type": "stream",
     "text": [
      "Here is the edge list...\n",
      "\n"
     ]
    },
    {
     "data": {
      "text/html": [
       "<style>\n",
       ".list-inline {list-style: none; margin:0; padding: 0}\n",
       ".list-inline>li {display: inline-block}\n",
       ".list-inline>li:not(:last-child)::after {content: \"\\00b7\"; padding: 0 .5ex}\n",
       "</style>\n",
       "<ol class=list-inline><li>'X1 --&gt; Y5'</li><li>'X2 --&gt; Y1'</li></ol>\n"
      ],
      "text/latex": [
       "\\begin{enumerate*}\n",
       "\\item 'X1 --> Y5'\n",
       "\\item 'X2 --> Y1'\n",
       "\\end{enumerate*}\n"
      ],
      "text/markdown": [
       "1. 'X1 --&gt; Y5'\n",
       "2. 'X2 --&gt; Y1'\n",
       "\n",
       "\n"
      ],
      "text/plain": [
       "[1] \"X1 --> Y5\" \"X2 --> Y1\""
      ]
     },
     "metadata": {},
     "output_type": "display_data"
    }
   ],
   "source": [
    "g <- rCausalMGM::pcStable(\n",
    "    data = dat,\n",
    "    verbose = T,\n",
    "    knowledge = list(\n",
    "\n",
    "        \"tiers\" = list(\n",
    "            c('X5', 'X4', 'X3', 'X2', 'X1'),\n",
    "            c('Y1', 'Y2', 'Y3', 'Y4', 'Y5')\n",
    "        ),\n",
    "\n",
    "        \"forbiddenWithinTier\" = c(TRUE, TRUE)\n",
    "    )\n",
    ")\n",
    " \n",
    "message(\"Here is the edge list...\")\n",
    "\n",
    "g$edges "
   ]
  },
  {
   "cell_type": "markdown",
   "id": "6e56abec-6d91-43f2-a97c-f089cbc6b518",
   "metadata": {},
   "source": [
    "'X2 --- X5' got deleted!"
   ]
  },
  {
   "cell_type": "markdown",
   "id": "27b4fb49-247a-4648-8bfc-b30a419ad378",
   "metadata": {},
   "source": [
    "## Lets forbid two nodes from being connected! Passed as you would think!"
   ]
  },
  {
   "cell_type": "code",
   "execution_count": 226,
   "id": "08663b3e-19b2-4176-9f70-edfd0f7ee1f4",
   "metadata": {
    "tags": []
   },
   "outputs": [
    {
     "name": "stdout",
     "output_type": "stream",
     "text": [
      "Starting PC-Stable algorithm...\n",
      "  Starting FAS Stable...\n",
      "    Searching at depth 0...\n",
      "    Searching at depth 1...\n",
      "  FAS Stable Elapsed Time =  0.0089 s\n",
      "    Filling Triple Map...\n",
      "  Orienting colliders...\n",
      "  Orienting implied edges...\n",
      "  PC-Stable Elapsed Time =  0.011 s\n"
     ]
    },
    {
     "name": "stderr",
     "output_type": "stream",
     "text": [
      "Here is the edge list...\n",
      "\n"
     ]
    },
    {
     "data": {
      "text/html": [
       "'X1 --&gt; Y5'"
      ],
      "text/latex": [
       "'X1 --> Y5'"
      ],
      "text/markdown": [
       "'X1 --&gt; Y5'"
      ],
      "text/plain": [
       "[1] \"X1 --> Y5\""
      ]
     },
     "metadata": {},
     "output_type": "display_data"
    }
   ],
   "source": [
    "g <- rCausalMGM::pcStable(\n",
    "    data = dat,\n",
    "    verbose = T,\n",
    "    knowledge = list(\n",
    "\n",
    "        \"tiers\" = list(\n",
    "            c('X1', 'X2', 'X3', 'X4', 'X5'),\n",
    "            c('Y1', 'Y2', 'Y3', 'Y4', 'Y5')\n",
    "        ),\n",
    "\n",
    "        \"forbiddenWithinTier\" = c(TRUE, TRUE),\n",
    "        \n",
    "        \"forbidden\" = list(\n",
    "            c(\"X2\", \"Y1\")\n",
    "        )\n",
    "        \n",
    "    )\n",
    ")\n",
    " \n",
    "message(\"Here is the edge list...\")\n",
    "\n",
    "g$edges"
   ]
  },
  {
   "cell_type": "markdown",
   "id": "ad3ce3a2-d4fb-4065-aa16-996744365ec3",
   "metadata": {},
   "source": [
    "Look at that! It removed 'X2 --> Y1'"
   ]
  },
  {
   "cell_type": "markdown",
   "id": "c29f6329-962f-416b-be3c-8005f764efae",
   "metadata": {},
   "source": [
    "## Finally, let us *require* and edge between two nodes"
   ]
  },
  {
   "cell_type": "code",
   "execution_count": 229,
   "id": "c47ceca2-f0bc-48f6-8485-4192d024f72f",
   "metadata": {
    "tags": []
   },
   "outputs": [
    {
     "name": "stdout",
     "output_type": "stream",
     "text": [
      "Starting PC-Stable algorithm...\n",
      "  Starting FAS Stable...\n",
      "    Searching at depth 0...\n",
      "    Searching at depth 1...\n",
      "  FAS Stable Elapsed Time =  0.0086 s\n",
      "    Filling Triple Map...\n",
      "  Orienting colliders...\n",
      "  Orienting implied edges...\n",
      "  PC-Stable Elapsed Time =  0.011 s\n"
     ]
    },
    {
     "name": "stderr",
     "output_type": "stream",
     "text": [
      "Here is the edge list...\n",
      "\n"
     ]
    },
    {
     "data": {
      "text/html": [
       "<style>\n",
       ".list-inline {list-style: none; margin:0; padding: 0}\n",
       ".list-inline>li {display: inline-block}\n",
       ".list-inline>li:not(:last-child)::after {content: \"\\00b7\"; padding: 0 .5ex}\n",
       "</style>\n",
       "<ol class=list-inline><li>'X1 --&gt; Y5'</li><li>'X3 --&gt; Y5'</li></ol>\n"
      ],
      "text/latex": [
       "\\begin{enumerate*}\n",
       "\\item 'X1 --> Y5'\n",
       "\\item 'X3 --> Y5'\n",
       "\\end{enumerate*}\n"
      ],
      "text/markdown": [
       "1. 'X1 --&gt; Y5'\n",
       "2. 'X3 --&gt; Y5'\n",
       "\n",
       "\n"
      ],
      "text/plain": [
       "[1] \"X1 --> Y5\" \"X3 --> Y5\""
      ]
     },
     "metadata": {},
     "output_type": "display_data"
    }
   ],
   "source": [
    "g <- rCausalMGM::pcStable(\n",
    "    data = dat,\n",
    "    verbose = T,\n",
    "    knowledge = list(\n",
    "\n",
    "        \"tiers\" = list(\n",
    "            c('X1', 'X2', 'X3', 'X4', 'X5'),\n",
    "            c('Y1', 'Y2', 'Y3', 'Y4', 'Y5')\n",
    "        ),\n",
    "\n",
    "        \"forbiddenWithinTier\" = c(TRUE, TRUE),\n",
    "        \n",
    "        \"forbidden\" = list(\n",
    "            c(\"X2\", \"Y1\")\n",
    "        ),\n",
    "        \n",
    "         \"required\" = list(\n",
    "            c(\"X3\", \"Y5\")\n",
    "        )\n",
    "        \n",
    "    )\n",
    ")\n",
    " \n",
    "message(\"Here is the edge list...\")\n",
    "\n",
    "g$edges"
   ]
  },
  {
   "cell_type": "markdown",
   "id": "5b9218d8-016e-450a-8931-518b60c2dbbf",
   "metadata": {},
   "source": [
    "-----"
   ]
  }
 ],
 "metadata": {
  "kernelspec": {
   "display_name": "R [conda env:.conda-r-env]",
   "language": "R",
   "name": "conda-env-.conda-r-env-r"
  },
  "language_info": {
   "codemirror_mode": "r",
   "file_extension": ".r",
   "mimetype": "text/x-r-source",
   "name": "R",
   "pygments_lexer": "r",
   "version": "4.2.3"
  }
 },
 "nbformat": 4,
 "nbformat_minor": 5
}
